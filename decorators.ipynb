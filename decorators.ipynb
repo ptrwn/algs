{
 "cells": [
  {
   "cell_type": "markdown",
   "metadata": {},
   "source": [
    "based on:\n",
    "https://realpython.com/primer-on-python-decorators/\n",
    "\n",
    "https://blog.miguelgrinberg.com/post/the-ultimate-guide-to-python-decorators-part-i-function-registration + parts 2 and 3\n"
   ]
  },
  {
   "cell_type": "code",
   "execution_count": 16,
   "metadata": {},
   "outputs": [
    {
     "name": "stdout",
     "output_type": "stream",
     "text": [
      "foo bar\n",
      "0:00:00.000224\n",
      "mr. Pickles\n",
      "0:00:00.000118\n"
     ]
    }
   ],
   "source": [
    "# the simplest decorator - no args, nothing\n",
    "\n",
    "from datetime import datetime\n",
    "\n",
    "def my_timer(func_to_time):\n",
    "\n",
    "    def wrapper():\n",
    "        start = datetime.now()\n",
    "        func_to_time()\n",
    "        end = datetime.now()\n",
    "        print(end-start)\n",
    "    \n",
    "    return wrapper\n",
    "\n",
    "@my_timer\n",
    "def wow_such_func():\n",
    "    print(\"foo bar\")\n",
    "\n",
    "wow_such_func()\n",
    "\n",
    "# how to call a decorator without synt sugar -- @\n",
    "\n",
    "def yet_another_way_to_decorate():\n",
    "    print(\"mr. Pickles\")\n",
    "\n",
    "my_timer(yet_another_way_to_decorate)()"
   ]
  },
  {
   "cell_type": "code",
   "execution_count": 22,
   "metadata": {},
   "outputs": [
    {
     "name": "stdout",
     "output_type": "stream",
     "text": [
      "Hi Joe\n",
      "hi! i'm wrap, i'm decorating greet, greet was called with (('Joe',), {})\n"
     ]
    }
   ],
   "source": [
    "# decorating a function with arguments\n",
    "\n",
    "def my_dec(func):\n",
    "\n",
    "    def wrap(*args, **kwargs):\n",
    "        func(*args, **kwargs)\n",
    "        print(f\"hi! i'm wrap, i'm decorating {func.__name__}, {func.__name__} was called with {args, kwargs}\")\n",
    "    \n",
    "    return wrap\n",
    "\n",
    "@my_dec\n",
    "def greet(name):\n",
    "    print(f\"Hi {name}\")\n",
    "\n",
    "greet('Joe')"
   ]
  },
  {
   "cell_type": "code",
   "execution_count": 28,
   "metadata": {},
   "outputs": [
    {
     "name": "stdout",
     "output_type": "stream",
     "text": [
      "hi Joe\n",
      "hi Joe\n",
      "hi Joe\n"
     ]
    }
   ],
   "source": [
    "# decorator that has its own params\n",
    "\n",
    "def outest(count):\n",
    "    def my_param_dec(func):\n",
    "        def wraps(*args, **kwards):\n",
    "            for _ in range(count):\n",
    "                func(*args, **kwards)\n",
    "        return wraps\n",
    "    return my_param_dec\n",
    "\n",
    "\n",
    "@outest(3)\n",
    "def greet_him(name):\n",
    "    print(f\"hi {name}\")\n",
    "\n",
    "\n",
    "greet_him('Joe')"
   ]
  },
  {
   "cell_type": "code",
   "execution_count": 33,
   "metadata": {},
   "outputs": [
    {
     "name": "stdout",
     "output_type": "stream",
     "text": [
      "hi Jane\n",
      "hi Jane\n"
     ]
    }
   ],
   "source": [
    "# full call without synt sugar\n",
    "\n",
    "def greet_her(name):\n",
    "    print(f\"hi {name}\")\n",
    "\n",
    "\n",
    "greet_her = outest(2)(greet_her)\n",
    "greet_her('Jane')"
   ]
  },
  {
   "cell_type": "code",
   "execution_count": 31,
   "metadata": {},
   "outputs": [
    {
     "name": "stdout",
     "output_type": "stream",
     "text": [
      "without functools.wraps <function my_timer.<locals>.wrapper at 0x7fb053d025c0>\n",
      "added functools.wraps <function wow_such_func at 0x7fb053d02ca0>\n"
     ]
    }
   ],
   "source": [
    "# decorator will change function name - and this makes debugging trickier\n",
    "# use functools.wraps to keep the original name\n",
    "\n",
    "from datetime import datetime\n",
    "\n",
    "def my_timer(func_to_time):\n",
    "\n",
    "    def wrapper():\n",
    "        start = datetime.now()\n",
    "        func_to_time()\n",
    "        end = datetime.now()\n",
    "        print(end-start)\n",
    "    \n",
    "    return wrapper\n",
    "\n",
    "@my_timer\n",
    "def wow_such_func():\n",
    "    print(\"foo bar\")\n",
    "\n",
    "print(\"without functools.wraps\", wow_such_func)\n",
    "# <function my_timer.<locals>.wrapper at 0x7fb053d02480>\n",
    "\n",
    "import functools\n",
    "\n",
    "def my_timer(func_to_time):\n",
    "    \n",
    "    @functools.wraps(func_to_time)\n",
    "    def wrapper():\n",
    "        start = datetime.now()\n",
    "        func_to_time()\n",
    "        end = datetime.now()\n",
    "        print(end-start)\n",
    "    \n",
    "    return wrapper\n",
    "\n",
    "@my_timer\n",
    "def wow_such_func():\n",
    "    print(\"foo bar\")\n",
    "\n",
    "print(\"added functools.wraps\", wow_such_func)\n",
    "# <function wow_such_func at 0x7fb053d02ca0>"
   ]
  },
  {
   "cell_type": "code",
   "execution_count": null,
   "metadata": {},
   "outputs": [],
   "source": []
  }
 ],
 "metadata": {
  "kernelspec": {
   "display_name": "Python 3",
   "language": "python",
   "name": "python3"
  },
  "language_info": {
   "codemirror_mode": {
    "name": "ipython",
    "version": 3
   },
   "file_extension": ".py",
   "mimetype": "text/x-python",
   "name": "python",
   "nbconvert_exporter": "python",
   "pygments_lexer": "ipython3",
   "version": "3.11.5"
  }
 },
 "nbformat": 4,
 "nbformat_minor": 2
}
