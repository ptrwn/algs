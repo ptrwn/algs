{
 "cells": [
  {
   "cell_type": "code",
   "execution_count": 1,
   "metadata": {},
   "outputs": [],
   "source": [
    "class ListNode:\n",
    "    def __init__(self, val=0, next=None):\n",
    "        self.val = val\n",
    "        self.next = next\n",
    "\n",
    "    def __repr__(self):\n",
    "        # this fails with recursion error if linked list has a cycle\n",
    "        return f\"ListNode(val={self.val}, next={self.next})\""
   ]
  },
  {
   "cell_type": "code",
   "execution_count": 3,
   "metadata": {},
   "outputs": [],
   "source": [
    "l1 = ListNode(val=100, next=ListNode(val=200, next=ListNode(val=300, next=None)))\n",
    "l2 = ListNode(val=1, next=l1)"
   ]
  },
  {
   "cell_type": "code",
   "execution_count": 4,
   "metadata": {},
   "outputs": [
    {
     "name": "stdout",
     "output_type": "stream",
     "text": [
      "ListNode(val=1, next=ListNode(val=100, next=ListNode(val=200, next=ListNode(val=300, next=None))))\n"
     ]
    }
   ],
   "source": [
    "print(l2)"
   ]
  },
  {
   "cell_type": "code",
   "execution_count": 5,
   "metadata": {},
   "outputs": [
    {
     "name": "stdout",
     "output_type": "stream",
     "text": [
      "ListNode(val=1, next=ListNode(val=100, next=ListNode(val=200, next=ListNode(val=300, next=None))))\n",
      "ListNode(val=100, next=ListNode(val=200, next=ListNode(val=300, next=None)))\n",
      "ListNode(val=200, next=ListNode(val=300, next=None))\n",
      "ListNode(val=300, next=None)\n"
     ]
    }
   ],
   "source": [
    "# iter-ish go over a linked list\n",
    "node = l2\n",
    "while node:\n",
    "    print(node)\n",
    "    node = node.next"
   ]
  },
  {
   "cell_type": "code",
   "execution_count": 6,
   "metadata": {},
   "outputs": [
    {
     "name": "stdout",
     "output_type": "stream",
     "text": [
      "res 1 ListNode(val=1, next=ListNode(val=a, next=ListNode(val=b, next=ListNode(val=c, next=None))))\n",
      "resh 1 ListNode(val=1, next=ListNode(val=a, next=ListNode(val=b, next=ListNode(val=c, next=None))))\n",
      "h1 -- 1 ListNode(val=1, next=ListNode(val=2, next=ListNode(val=3, next=None)))\n",
      "h2 -- 1 ListNode(val=a, next=ListNode(val=b, next=ListNode(val=c, next=None)))\n",
      "======================1===========================\n",
      "h1 -- 2 ListNode(val=2, next=ListNode(val=3, next=None))\n",
      "h2 -- 2 ListNode(val=b, next=ListNode(val=c, next=None))\n",
      "res 2 ListNode(val=a, next=ListNode(val=2, next=ListNode(val=b, next=ListNode(val=c, next=None))))\n",
      "resh 2 ListNode(val=1, next=ListNode(val=a, next=ListNode(val=2, next=ListNode(val=b, next=ListNode(val=c, next=None)))))\n",
      "=======================2===========================\n",
      "res3 ListNode(val=b, next=ListNode(val=c, next=None))\n",
      "ListNode(val=3, next=None)\n",
      "ListNode(val=c, next=None)\n",
      "ListNode(val=b, next=ListNode(val=3, next=ListNode(val=c, next=None)))\n",
      "ListNode(val=1, next=ListNode(val=a, next=ListNode(val=2, next=ListNode(val=b, next=ListNode(val=3, next=ListNode(val=c, next=None))))))\n",
      "=======================3===========================\n"
     ]
    }
   ],
   "source": [
    "# merge two linked lists element-wise\n",
    "l1 = ListNode(val=1, next=ListNode(val=2, next=ListNode(val=3, next=None)))\n",
    "l2 = ListNode(val=\"a\", next=ListNode(val=\"b\", next=ListNode(val=\"c\", next=None)))\n",
    "\n",
    "h1 = l1\n",
    "h2 = l2\n",
    "res = ListNode(val=h1.val, next=h2)\n",
    "resh = res\n",
    "print(\"res 1\", res)\n",
    "print(\"resh 1\", resh)\n",
    "print('h1 -- 1', h1)\n",
    "print('h2 -- 1', h2)\n",
    "print('======================1===========================')\n",
    "\n",
    "\n",
    "h1 = h1.next\n",
    "h2 = h2.next\n",
    "res = res.next\n",
    "print('h1 -- 2', h1)\n",
    "print('h2 -- 2', h2)\n",
    "res.next = ListNode(val=h1.val, next=h2)\n",
    "print('res 2', res)\n",
    "print('resh 2', resh)\n",
    "print('=======================2===========================')\n",
    "\n",
    "\n",
    "h1 = h1.next\n",
    "h2 = h2.next\n",
    "res = res.next.next\n",
    "print('res3', res)\n",
    "print(h1)\n",
    "print(h2)\n",
    "res.next = ListNode(val=h1.val, next=h2)\n",
    "print(res)\n",
    "print(resh)\n",
    "print('=======================3===========================')\n"
   ]
  },
  {
   "cell_type": "code",
   "execution_count": 7,
   "metadata": {},
   "outputs": [
    {
     "name": "stdout",
     "output_type": "stream",
     "text": [
      "ListNode(val=1, next=ListNode(val=a, next=ListNode(val=2, next=ListNode(val=b, next=ListNode(val=3, next=ListNode(val=c, next=None))))))\n"
     ]
    }
   ],
   "source": [
    "l1 = ListNode(val=1, next=ListNode(val=2, next=ListNode(val=3, next=None)))\n",
    "l2 = ListNode(val=\"a\", next=ListNode(val=\"b\", next=ListNode(val=\"c\", next=None)))\n",
    "\n",
    "res = ListNode(val=l1.val, next=l2)\n",
    "head = res\n",
    "\n",
    "while l1.next:\n",
    "    l1, l2 = l1.next, l2.next\n",
    "    res = res.next\n",
    "    res.next = ListNode(val=l1.val, next=l2)\n",
    "    res = res.next\n",
    "\n",
    "\n",
    "print(head)\n"
   ]
  },
  {
   "cell_type": "code",
   "execution_count": 9,
   "metadata": {},
   "outputs": [
    {
     "data": {
      "text/plain": [
       "ListNode(val=1, next=ListNode(val=1, next=ListNode(val=2, next=ListNode(val=3, next=ListNode(val=4, next=ListNode(val=4, next=None))))))"
      ]
     },
     "execution_count": 9,
     "metadata": {},
     "output_type": "execute_result"
    }
   ],
   "source": [
    "# merge two sorted linked lists into one\n",
    "\n",
    "l1 = ListNode(val=1, next=ListNode(val=2, next=ListNode(val=4, next=None)))\n",
    "l2 = ListNode(val=1, next=ListNode(val=3, next=ListNode(val=4, next=None)))\n",
    "\n",
    "head = res = ListNode()\n",
    "\n",
    "while l1 or l2:\n",
    "    if l1 and (not l2 or l1.val <= l2.val):\n",
    "        res.next = ListNode(l1.val)\n",
    "        l1 = l1.next\n",
    "    else:\n",
    "        res.next = ListNode(l2.val)\n",
    "        l2 = l2.next\n",
    "\n",
    "    res = res.next\n",
    "\n",
    "head = head.next # remove leading zero\n",
    "head\n"
   ]
  },
  {
   "cell_type": "code",
   "execution_count": 12,
   "metadata": {},
   "outputs": [
    {
     "data": {
      "text/plain": [
       "ListNode(val=1, next=ListNode(val=2, next=ListNode(val=3, next=ListNode(val=4, next=ListNode(val=5, next=None)))))"
      ]
     },
     "execution_count": 12,
     "metadata": {},
     "output_type": "execute_result"
    }
   ],
   "source": [
    "# Given the head of a singly linked list, reverse the list, and return the reversed list.\n",
    "# Input: head = [1,2,3,4,5]\n",
    "# Output: [5,4,3,2,1]\n",
    "\n",
    "ll = ListNode(1, ListNode(2, ListNode(3, ListNode(4, ListNode(5)))))\n",
    "ll"
   ]
  },
  {
   "cell_type": "code",
   "execution_count": 18,
   "metadata": {},
   "outputs": [
    {
     "data": {
      "text/plain": [
       "ListNode(val=5, next=ListNode(val=4, next=ListNode(val=3, next=ListNode(val=2, next=ListNode(val=1, next=None)))))"
      ]
     },
     "execution_count": 18,
     "metadata": {},
     "output_type": "execute_result"
    }
   ],
   "source": [
    "ll = ListNode(1, ListNode(2, ListNode(3, ListNode(4, ListNode(5)))))\n",
    "\n",
    "def reverse(head):\n",
    "\n",
    "    # If head is empty or has reached the list end\n",
    "    if head is None or head.next is None:\n",
    "        return head\n",
    "\n",
    "    # Reverse the rest list\n",
    "    rest = reverse(head.next)\n",
    "\n",
    "    # Put first element at the end\n",
    "    head.next.next = head\n",
    "    head.next = None\n",
    "\n",
    "    # Fix the header pointer\n",
    "    return rest\n",
    "\n",
    "reverse(ll)"
   ]
  },
  {
   "cell_type": "code",
   "execution_count": 20,
   "metadata": {},
   "outputs": [
    {
     "name": "stdout",
     "output_type": "stream",
     "text": [
      "-------------------------------\n",
      "cur before ListNode(val=1, next=ListNode(val=2, next=ListNode(val=3, next=ListNode(val=4, next=ListNode(val=5, next=None)))))\n",
      "tmp ListNode(val=2, next=ListNode(val=3, next=ListNode(val=4, next=ListNode(val=5, next=None))))\n",
      "prev ListNode(val=1, next=None)\n",
      "cur after ListNode(val=2, next=ListNode(val=3, next=ListNode(val=4, next=ListNode(val=5, next=None))))\n",
      "-------------------------------\n",
      "-------------------------------\n",
      "cur before ListNode(val=2, next=ListNode(val=3, next=ListNode(val=4, next=ListNode(val=5, next=None))))\n",
      "tmp ListNode(val=3, next=ListNode(val=4, next=ListNode(val=5, next=None)))\n",
      "prev ListNode(val=2, next=ListNode(val=1, next=None))\n",
      "cur after ListNode(val=3, next=ListNode(val=4, next=ListNode(val=5, next=None)))\n",
      "-------------------------------\n",
      "-------------------------------\n",
      "cur before ListNode(val=3, next=ListNode(val=4, next=ListNode(val=5, next=None)))\n",
      "tmp ListNode(val=4, next=ListNode(val=5, next=None))\n",
      "prev ListNode(val=3, next=ListNode(val=2, next=ListNode(val=1, next=None)))\n",
      "cur after ListNode(val=4, next=ListNode(val=5, next=None))\n",
      "-------------------------------\n",
      "-------------------------------\n",
      "cur before ListNode(val=4, next=ListNode(val=5, next=None))\n",
      "tmp ListNode(val=5, next=None)\n",
      "prev ListNode(val=4, next=ListNode(val=3, next=ListNode(val=2, next=ListNode(val=1, next=None))))\n",
      "cur after ListNode(val=5, next=None)\n",
      "-------------------------------\n",
      "-------------------------------\n",
      "cur before ListNode(val=5, next=None)\n",
      "tmp None\n",
      "prev ListNode(val=5, next=ListNode(val=4, next=ListNode(val=3, next=ListNode(val=2, next=ListNode(val=1, next=None)))))\n",
      "cur after None\n",
      "-------------------------------\n"
     ]
    },
    {
     "data": {
      "text/plain": [
       "ListNode(val=5, next=ListNode(val=4, next=ListNode(val=3, next=ListNode(val=2, next=ListNode(val=1, next=None)))))"
      ]
     },
     "execution_count": 20,
     "metadata": {},
     "output_type": "execute_result"
    }
   ],
   "source": [
    "ll = ListNode(1, ListNode(2, ListNode(3, ListNode(4, ListNode(5)))))\n",
    "\n",
    "\n",
    "def reverse(head):\n",
    "\n",
    "    prev = None\n",
    "    cur = head\n",
    "\n",
    "    while cur:\n",
    "        print('-------------------------------')\n",
    "        print('cur before', cur)\n",
    "        tmp = cur.next\n",
    "        cur.next = prev\n",
    "        prev = cur\n",
    "        cur = tmp\n",
    "\n",
    "        \n",
    "        print('tmp', tmp)\n",
    "        print('prev', prev)\n",
    "        print('cur after', cur)\n",
    "        print('-------------------------------')\n",
    "    \n",
    "    return prev\n",
    "\n",
    "reverse(ll)"
   ]
  },
  {
   "cell_type": "code",
   "execution_count": 34,
   "metadata": {},
   "outputs": [],
   "source": [
    "# a cheaty way to detect a cycle in linked list:\n",
    "\n",
    "class ListNode:\n",
    "    def __init__(self, val=0, next=None):\n",
    "        self.val = val\n",
    "        self.next = next\n",
    "\n",
    "    def __repr__(self):\n",
    "        import sys\n",
    "        old_depth = sys.getrecursionlimit()\n",
    "        sys.setrecursionlimit(42)\n",
    "\n",
    "        try:\n",
    "            rep = f\"ListNode(val={self.val}, next={self.next})\"\n",
    "        except RecursionError: # ○( ＾皿＾)っ Hehehe…\n",
    "            rep = \"cycle\"\n",
    "        \n",
    "        sys.setrecursionlimit(old_depth)\n",
    "        return rep"
   ]
  },
  {
   "cell_type": "code",
   "execution_count": 36,
   "metadata": {},
   "outputs": [],
   "source": [
    "# linked list with a cycle\n",
    "head = ListNode(1)\n",
    "head.next = ListNode(2)\n",
    "head.next.next = ListNode(3)\n",
    "head.next.next.next = ListNode(4)\n",
    "head.next.next.next.next = ListNode(5)\n",
    "head.next.next.next.next.next = head.next.next  # Creating a cycle\n",
    "\n",
    "# linked list without cycle\n",
    "ll = ListNode(1, ListNode(2, ListNode(3, ListNode(4, ListNode(5)))))"
   ]
  },
  {
   "cell_type": "code",
   "execution_count": 52,
   "metadata": {},
   "outputs": [],
   "source": [
    "def has_loop(head):\n",
    "\n",
    "    slow = head\n",
    "    fast = head\n",
    "\n",
    "    while fast and fast.next:\n",
    "        slow = slow.next\n",
    "        fast = fast.next.next\n",
    "\n",
    "        if slow == fast:\n",
    "            return True\n",
    "        \n",
    "    return False"
   ]
  },
  {
   "cell_type": "code",
   "execution_count": 53,
   "metadata": {},
   "outputs": [
    {
     "data": {
      "text/plain": [
       "True"
      ]
     },
     "execution_count": 53,
     "metadata": {},
     "output_type": "execute_result"
    }
   ],
   "source": [
    "has_loop(head)"
   ]
  },
  {
   "cell_type": "code",
   "execution_count": 54,
   "metadata": {},
   "outputs": [
    {
     "data": {
      "text/plain": [
       "False"
      ]
     },
     "execution_count": 54,
     "metadata": {},
     "output_type": "execute_result"
    }
   ],
   "source": [
    "has_loop(ll)"
   ]
  },
  {
   "cell_type": "code",
   "execution_count": 22,
   "metadata": {},
   "outputs": [],
   "source": [
    "# Given the head of a linked list and an integer val, remove all the nodes of the linked list that has Node.val == val, and return the new head.\n",
    "# Input: head = [1,2,6,3,4,5,6], val = 6\n",
    "# Output: [1,2,3,4,5]"
   ]
  },
  {
   "cell_type": "code",
   "execution_count": 36,
   "metadata": {},
   "outputs": [],
   "source": [
    "l1 = ListNode(val=1, next=ListNode(val=6, next=ListNode(val=3, next=ListNode(val=6, next=ListNode(val=4, next=ListNode(val=5, next=ListNode(val=6)))))))\n",
    "l1 = ListNode(val=6, next=ListNode(val=6, next=ListNode(val=6, next=ListNode(val=6, next=None))))\n",
    "\n",
    "def remove_elements(h, rem):\n",
    "\n",
    "    cur = h\n",
    "    prev = None\n",
    "\n",
    "    while cur:\n",
    "        if cur.val == rem:\n",
    "            if prev is not None:\n",
    "                prev.next = cur.next\n",
    "            else:\n",
    "                h = cur.next\n",
    "                cur = cur.next\n",
    "                continue\n",
    "        prev = cur\n",
    "        cur = cur.next\n",
    "    \n",
    "    return h\n"
   ]
  },
  {
   "cell_type": "code",
   "execution_count": 35,
   "metadata": {},
   "outputs": [],
   "source": [
    "remove_elements(l1, 6)"
   ]
  },
  {
   "cell_type": "code",
   "execution_count": null,
   "metadata": {},
   "outputs": [],
   "source": []
  }
 ],
 "metadata": {
  "kernelspec": {
   "display_name": "Python 3",
   "language": "python",
   "name": "python3"
  },
  "language_info": {
   "codemirror_mode": {
    "name": "ipython",
    "version": 3
   },
   "file_extension": ".py",
   "mimetype": "text/x-python",
   "name": "python",
   "nbconvert_exporter": "python",
   "pygments_lexer": "ipython3",
   "version": "3.11.5"
  }
 },
 "nbformat": 4,
 "nbformat_minor": 2
}
