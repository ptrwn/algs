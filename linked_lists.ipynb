{
 "cells": [
  {
   "cell_type": "code",
   "execution_count": 14,
   "metadata": {},
   "outputs": [],
   "source": [
    "class ListNode:\n",
    "    def __init__(self, val=0, next=None):\n",
    "        self.val = val\n",
    "        self.next = next\n",
    "\n",
    "    def __repr__(self):\n",
    "        return f\"ListNode(val={self.val}, next={self.next})\""
   ]
  },
  {
   "cell_type": "code",
   "execution_count": 17,
   "metadata": {},
   "outputs": [],
   "source": [
    "l1 = ListNode(val=100, next=ListNode(val=200, next=ListNode(val=300, next=None)))\n",
    "l2 = ListNode(val=1, next=l1)"
   ]
  },
  {
   "cell_type": "code",
   "execution_count": 18,
   "metadata": {},
   "outputs": [
    {
     "name": "stdout",
     "output_type": "stream",
     "text": [
      "ListNode(val=1, next=ListNode(val=100, next=ListNode(val=200, next=ListNode(val=300, next=None))))\n"
     ]
    }
   ],
   "source": [
    "print(l2)"
   ]
  },
  {
   "cell_type": "code",
   "execution_count": 23,
   "metadata": {},
   "outputs": [
    {
     "name": "stdout",
     "output_type": "stream",
     "text": [
      "ListNode(val=1, next=ListNode(val=100, next=ListNode(val=200, next=ListNode(val=300, next=None))))\n",
      "ListNode(val=100, next=ListNode(val=200, next=ListNode(val=300, next=None)))\n",
      "ListNode(val=200, next=ListNode(val=300, next=None))\n",
      "ListNode(val=300, next=None)\n"
     ]
    }
   ],
   "source": [
    "# iter-ish go over a linked list\n",
    "node = l2\n",
    "while node:\n",
    "    print(node)\n",
    "    node = node.next"
   ]
  },
  {
   "cell_type": "code",
   "execution_count": 78,
   "metadata": {},
   "outputs": [
    {
     "name": "stdout",
     "output_type": "stream",
     "text": [
      "res 1 ListNode(val=1, next=ListNode(val=a, next=ListNode(val=b, next=ListNode(val=c, next=None))))\n",
      "resh 1 ListNode(val=1, next=ListNode(val=a, next=ListNode(val=b, next=ListNode(val=c, next=None))))\n",
      "h1 -- 1 ListNode(val=1, next=ListNode(val=2, next=ListNode(val=3, next=None)))\n",
      "h2 -- 1 ListNode(val=a, next=ListNode(val=b, next=ListNode(val=c, next=None)))\n",
      "======================1===========================\n",
      "h1 -- 2 ListNode(val=2, next=ListNode(val=3, next=None))\n",
      "h2 -- 2 ListNode(val=b, next=ListNode(val=c, next=None))\n",
      "res 2 ListNode(val=a, next=ListNode(val=2, next=ListNode(val=b, next=ListNode(val=c, next=None))))\n",
      "resh 2 ListNode(val=1, next=ListNode(val=a, next=ListNode(val=2, next=ListNode(val=b, next=ListNode(val=c, next=None)))))\n",
      "=======================2===========================\n",
      "res3 ListNode(val=b, next=ListNode(val=c, next=None))\n",
      "ListNode(val=3, next=None)\n",
      "ListNode(val=c, next=None)\n",
      "ListNode(val=b, next=ListNode(val=3, next=ListNode(val=c, next=None)))\n",
      "ListNode(val=1, next=ListNode(val=a, next=ListNode(val=2, next=ListNode(val=b, next=ListNode(val=3, next=ListNode(val=c, next=None))))))\n",
      "=======================3===========================\n"
     ]
    }
   ],
   "source": [
    "# merge two linked lists element-wise\n",
    "l1 = ListNode(val=1, next=ListNode(val=2, next=ListNode(val=3, next=None)))\n",
    "l2 = ListNode(val=\"a\", next=ListNode(val=\"b\", next=ListNode(val=\"c\", next=None)))\n",
    "\n",
    "h1 = l1\n",
    "h2 = l2\n",
    "res = ListNode(val=h1.val, next=h2)\n",
    "resh = res\n",
    "print(\"res 1\", res)\n",
    "print(\"resh 1\", resh)\n",
    "print('h1 -- 1', h1)\n",
    "print('h2 -- 1', h2)\n",
    "print('======================1===========================')\n",
    "\n",
    "\n",
    "h1 = h1.next\n",
    "h2 = h2.next\n",
    "res = res.next\n",
    "print('h1 -- 2', h1)\n",
    "print('h2 -- 2', h2)\n",
    "res.next = ListNode(val=h1.val, next=h2)\n",
    "print('res 2', res)\n",
    "print('resh 2', resh)\n",
    "print('=======================2===========================')\n",
    "\n",
    "\n",
    "h1 = h1.next\n",
    "h2 = h2.next\n",
    "res = res.next.next\n",
    "print('res3', res)\n",
    "print(h1)\n",
    "print(h2)\n",
    "res.next = ListNode(val=h1.val, next=h2)\n",
    "print(res)\n",
    "print(resh)\n",
    "print('=======================3===========================')\n"
   ]
  },
  {
   "cell_type": "code",
   "execution_count": 101,
   "metadata": {},
   "outputs": [
    {
     "name": "stdout",
     "output_type": "stream",
     "text": [
      "ListNode(val=1, next=ListNode(val=a, next=ListNode(val=2, next=ListNode(val=b, next=ListNode(val=3, next=ListNode(val=c, next=None))))))\n"
     ]
    }
   ],
   "source": [
    "l1 = ListNode(val=1, next=ListNode(val=2, next=ListNode(val=3, next=None)))\n",
    "l2 = ListNode(val=\"a\", next=ListNode(val=\"b\", next=ListNode(val=\"c\", next=None)))\n",
    "\n",
    "res = ListNode(val=l1.val, next=l2)\n",
    "head = res\n",
    "\n",
    "while l1.next:\n",
    "    l1, l2 = l1.next, l2.next\n",
    "    res = res.next\n",
    "    res.next = ListNode(val=l1.val, next=l2)\n",
    "    res = res.next\n",
    "\n",
    "\n",
    "print(head)\n"
   ]
  },
  {
   "cell_type": "code",
   "execution_count": 102,
   "metadata": {},
   "outputs": [
    {
     "name": "stdout",
     "output_type": "stream",
     "text": [
      "ListNode(val=0, next=ListNode(val=1, next=ListNode(val=1, next=ListNode(val=2, next=ListNode(val=3, next=ListNode(val=4, next=ListNode(val=4, next=None)))))))\n"
     ]
    }
   ],
   "source": [
    "# merge two sorted linked lists into one\n",
    "\n",
    "l1 = ListNode(val=1, next=ListNode(val=2, next=ListNode(val=4, next=None)))\n",
    "l2 = ListNode(val=1, next=ListNode(val=3, next=ListNode(val=4, next=None)))\n",
    "\n",
    "head = res = ListNode()\n",
    "\n",
    "while l1 or l2:\n",
    "    if l1 and (not l2 or l1.val <= l2.val):\n",
    "        res.next = ListNode(l1.val)\n",
    "        l1 = l1.next\n",
    "    else:\n",
    "        res.next = ListNode(l2.val)\n",
    "        l2 = l2.next\n",
    "\n",
    "    res = res.next\n",
    "\n",
    "head = head.next # remove leading zero"
   ]
  },
  {
   "cell_type": "code",
   "execution_count": 103,
   "metadata": {},
   "outputs": [],
   "source": []
  },
  {
   "cell_type": "code",
   "execution_count": null,
   "metadata": {},
   "outputs": [],
   "source": []
  }
 ],
 "metadata": {
  "kernelspec": {
   "display_name": "Python 3",
   "language": "python",
   "name": "python3"
  },
  "language_info": {
   "codemirror_mode": {
    "name": "ipython",
    "version": 3
   },
   "file_extension": ".py",
   "mimetype": "text/x-python",
   "name": "python",
   "nbconvert_exporter": "python",
   "pygments_lexer": "ipython3",
   "version": "3.11.5"
  }
 },
 "nbformat": 4,
 "nbformat_minor": 2
}
